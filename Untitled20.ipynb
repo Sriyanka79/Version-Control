{
 "cells": [
  {
   "cell_type": "code",
   "execution_count": 1,
   "id": "c762114c",
   "metadata": {},
   "outputs": [],
   "source": [
    "from tkinter import *\n",
    "import random\n",
    "#Tic-Tac-Toe\n",
    "def next_turn(row, column):\n",
    "\n",
    "    global player\n",
    "\n",
    "    if buttons[row][column]['text'] == \"\" and check_winner() is False:\n",
    "\n",
    "        if player == players[0]:\n",
    "\n",
    "            buttons[row][column]['text'] = player\n",
    "\n",
    "            if check_winner() is False:\n",
    "                player = players[1]\n",
    "                label.config(text=(players[1]+\" turn\"))\n",
    "\n",
    "            elif check_winner() is True:\n",
    "                label.config(text=\"Cograts!!👏  \"+ (players[0]+\" wins\"))\n",
    "\n",
    "            elif check_winner() == \"Tie\":\n",
    "                label.config(text=\"Oh😯 Tie!\")\n",
    "\n",
    "        else:\n",
    "\n",
    "            buttons[row][column]['text'] = player\n",
    "\n",
    "            if check_winner() is False:\n",
    "                player = players[0]\n",
    "                label.config(text=(players[0]+\" turn\"))\n",
    "\n",
    "            elif check_winner() is True:\n",
    "                label.config(text=\"Cograts!!👏 \"+ (players[1]+\" wins\"))\n",
    "\n",
    "            elif check_winner() == \"Tie\":\n",
    "                label.config(text=\"Oh😯 Tie!\")\n",
    "\n",
    "def check_winner():\n",
    "\n",
    "    for row in range(3):\n",
    "        if buttons[row][0]['text'] == buttons[row][1]['text'] == buttons[row][2]['text'] != \"\":\n",
    "            buttons[row][0].config(bg=\"green\")\n",
    "            buttons[row][1].config(bg=\"green\")\n",
    "            buttons[row][2].config(bg=\"green\")\n",
    "            return True\n",
    "\n",
    "    for column in range(3):\n",
    "        if buttons[0][column]['text'] == buttons[1][column]['text'] == buttons[2][column]['text'] != \"\":\n",
    "            buttons[0][column].config(bg=\"green\")\n",
    "            buttons[1][column].config(bg=\"green\")\n",
    "            buttons[2][column].config(bg=\"green\")\n",
    "            return True\n",
    "\n",
    "    if buttons[0][0]['text'] == buttons[1][1]['text'] == buttons[2][2]['text'] != \"\":\n",
    "        buttons[0][0].config(bg=\"green\")\n",
    "        buttons[1][1].config(bg=\"green\")\n",
    "        buttons[2][2].config(bg=\"green\")\n",
    "        return True\n",
    "\n",
    "    elif buttons[0][2]['text'] == buttons[1][1]['text'] == buttons[2][0]['text'] != \"\":\n",
    "        buttons[0][2].config(bg=\"green\")\n",
    "        buttons[1][1].config(bg=\"green\")\n",
    "        buttons[2][0].config(bg=\"green\")\n",
    "        return True\n",
    "\n",
    "    elif empty_spaces() is False:\n",
    "\n",
    "        for row in range(3):\n",
    "            for column in range(3):\n",
    "                buttons[row][column].config(bg=\"red\")\n",
    "        return \"Tie\"\n",
    "\n",
    "    else:\n",
    "        return False\n",
    "\n",
    "\n"
   ]
  },
  {
   "cell_type": "code",
   "execution_count": null,
   "id": "746ec562",
   "metadata": {},
   "outputs": [],
   "source": []
  }
 ],
 "metadata": {
  "kernelspec": {
   "display_name": "Python 3 (ipykernel)",
   "language": "python",
   "name": "python3"
  },
  "language_info": {
   "codemirror_mode": {
    "name": "ipython",
    "version": 3
   },
   "file_extension": ".py",
   "mimetype": "text/x-python",
   "name": "python",
   "nbconvert_exporter": "python",
   "pygments_lexer": "ipython3",
   "version": "3.11.4"
  }
 },
 "nbformat": 4,
 "nbformat_minor": 5
}
def empty_spaces():

    spaces = 9

    for row in range(3):
        for column in range(3):
            if buttons[row][column]['text'] != "":
                spaces -= 1

    if spaces == 0:
        return False
    else:
        return True
